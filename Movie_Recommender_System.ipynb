{
  "nbformat": 4,
  "nbformat_minor": 0,
  "metadata": {
    "colab": {
      "name": "Movie Recommender System.ipynb",
      "provenance": [],
      "collapsed_sections": [],
      "authorship_tag": "ABX9TyMSEWl5b/ji+zswCZXB+M6/",
      "include_colab_link": true
    },
    "kernelspec": {
      "name": "python3",
      "display_name": "Python 3"
    },
    "accelerator": "GPU"
  },
  "cells": [
    {
      "cell_type": "markdown",
      "metadata": {
        "id": "view-in-github",
        "colab_type": "text"
      },
      "source": [
        "<a href=\"https://colab.research.google.com/github/SurajPatidar201198/Recommendation-system/blob/master/Movie_Recommender_System.ipynb\" target=\"_parent\"><img src=\"https://colab.research.google.com/assets/colab-badge.svg\" alt=\"Open In Colab\"/></a>"
      ]
    },
    {
      "cell_type": "code",
      "metadata": {
        "id": "OBQhh1kyL7cs",
        "colab_type": "code",
        "colab": {}
      },
      "source": [
        "import numpy as np\n",
        "import pandas as pd"
      ],
      "execution_count": 0,
      "outputs": []
    },
    {
      "cell_type": "code",
      "metadata": {
        "id": "MPX8gkj6L9YF",
        "colab_type": "code",
        "outputId": "938c992c-5c03-4b27-c5f6-835ddc314440",
        "colab": {
          "resources": {
            "http://localhost:8080/nbextensions/google.colab/files.js": {
              "data": "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",
              "ok": true,
              "headers": [
                [
                  "content-type",
                  "application/javascript"
                ]
              ],
              "status": 200,
              "status_text": ""
            }
          },
          "base_uri": "https://localhost:8080/",
          "height": 74
        }
      },
      "source": [
        "from google.colab import files\n",
        "uploaded=files.upload()"
      ],
      "execution_count": 0,
      "outputs": [
        {
          "output_type": "display_data",
          "data": {
            "text/html": [
              "\n",
              "     <input type=\"file\" id=\"files-db91e618-d6c1-4c3c-b777-bcd4ec680633\" name=\"files[]\" multiple disabled />\n",
              "     <output id=\"result-db91e618-d6c1-4c3c-b777-bcd4ec680633\">\n",
              "      Upload widget is only available when the cell has been executed in the\n",
              "      current browser session. Please rerun this cell to enable.\n",
              "      </output>\n",
              "      <script src=\"/nbextensions/google.colab/files.js\"></script> "
            ],
            "text/plain": [
              "<IPython.core.display.HTML object>"
            ]
          },
          "metadata": {
            "tags": []
          }
        },
        {
          "output_type": "stream",
          "text": [
            "Saving IMDB_Top250Engmovies2_OMDB_Detailed.csv to IMDB_Top250Engmovies2_OMDB_Detailed.csv\n"
          ],
          "name": "stdout"
        }
      ]
    },
    {
      "cell_type": "code",
      "metadata": {
        "id": "qexLi7GNMHpY",
        "colab_type": "code",
        "colab": {}
      },
      "source": [
        "import io\n",
        "df=pd.read_csv(io.BytesIO(uploaded[\"IMDB_Top250Engmovies2_OMDB_Detailed.csv\"]))"
      ],
      "execution_count": 0,
      "outputs": []
    },
    {
      "cell_type": "code",
      "metadata": {
        "id": "dBDq7umOMc6d",
        "colab_type": "code",
        "colab": {}
      },
      "source": [
        "df=df[['Title', 'Director', 'Actors', 'Plot', 'Genre']]"
      ],
      "execution_count": 0,
      "outputs": []
    },
    {
      "cell_type": "code",
      "metadata": {
        "id": "_cM0rIEkQG2_",
        "colab_type": "code",
        "colab": {}
      },
      "source": [
        "'''print('Rows x Columns : ', df.shape[0], 'x', df.shape[1])\n",
        "print('Features: ', df.columns.tolist())\n",
        "print('\\nUnique values:')\n",
        "print(df.nunique())\n",
        "for col in df.columns:\n",
        "    print(col, end=': ')\n",
        "    print(df[col].unique())'''\n",
        "output=None"
      ],
      "execution_count": 0,
      "outputs": []
    },
    {
      "cell_type": "code",
      "metadata": {
        "id": "DVqtntRxQemp",
        "colab_type": "code",
        "outputId": "ea91c186-1afc-4b34-c010-4a59ec30fed1",
        "colab": {
          "base_uri": "https://localhost:8080/",
          "height": 33
        }
      },
      "source": [
        "df['Title'].nunique()  # gives count of unique values in a perticular column"
      ],
      "execution_count": 0,
      "outputs": [
        {
          "output_type": "execute_result",
          "data": {
            "text/plain": [
              "250"
            ]
          },
          "metadata": {
            "tags": []
          },
          "execution_count": 7
        }
      ]
    },
    {
      "cell_type": "code",
      "metadata": {
        "id": "_i-w59dAQmx3",
        "colab_type": "code",
        "outputId": "363df549-76b0-48b2-ffe5-c6a061c82776",
        "colab": {
          "base_uri": "https://localhost:8080/",
          "height": 33
        }
      },
      "source": [
        "df.columns"
      ],
      "execution_count": 0,
      "outputs": [
        {
          "output_type": "execute_result",
          "data": {
            "text/plain": [
              "Index(['Title', 'Director', 'Actors', 'Plot', 'Genre'], dtype='object')"
            ]
          },
          "metadata": {
            "tags": []
          },
          "execution_count": 8
        }
      ]
    },
    {
      "cell_type": "code",
      "metadata": {
        "id": "XQggGANdSE1b",
        "colab_type": "code",
        "outputId": "52689f87-e284-4434-b78c-620667507b96",
        "colab": {
          "base_uri": "https://localhost:8080/",
          "height": 1000
        }
      },
      "source": [
        "#DataFrame.iterrows is a generator which yield both index and row\n",
        "for index,row in df.iterrows():\n",
        "  print(row['Title'],\"-----\",row['Genre'])"
      ],
      "execution_count": 0,
      "outputs": [
        {
          "output_type": "stream",
          "text": [
            "The Shawshank Redemption ----- Crime, Drama\n",
            "The Godfather ----- Crime, Drama\n",
            "The Godfather: Part II ----- Crime, Drama\n",
            "The Dark Knight ----- Action, Crime, Drama\n",
            "12 Angry Men ----- Crime, Drama\n",
            "Schindler's List ----- Biography, Drama, History\n",
            "The Lord of the Rings: The Return of the King ----- Adventure, Drama, Fantasy\n",
            "Pulp Fiction ----- Crime, Drama\n",
            "Fight Club ----- Drama\n",
            "The Lord of the Rings: The Fellowship of the Ring ----- Adventure, Drama, Fantasy\n",
            "Forrest Gump ----- Comedy, Drama, Romance\n",
            "Star Wars: Episode V - The Empire Strikes Back ----- Action, Adventure, Fantasy\n",
            "Inception ----- Action, Adventure, Sci-Fi\n",
            "The Lord of the Rings: The Two Towers ----- Adventure, Drama, Fantasy\n",
            "One Flew Over the Cuckoo's Nest ----- Drama\n",
            "Goodfellas ----- Crime, Drama\n",
            "The Matrix ----- Action, Sci-Fi\n",
            "Star Wars: Episode IV - A New Hope ----- Action, Adventure, Fantasy\n",
            "Se7en ----- Crime, Drama, Mystery\n",
            "It's a Wonderful Life ----- Drama, Family, Fantasy\n",
            "The Silence of the Lambs ----- Crime, Drama, Thriller\n",
            "The Usual Suspects ----- Crime, Drama, Mystery\n",
            "Léon: The Professional ----- Crime, Drama, Thriller\n",
            "Saving Private Ryan ----- Drama, War\n",
            "City Lights ----- Comedy, Drama, Romance\n",
            "Interstellar ----- Adventure, Drama, Sci-Fi\n",
            "American History X ----- Crime, Drama\n",
            "Modern Times ----- Comedy, Drama, Family\n",
            "Casablanca ----- Drama, Romance, War\n",
            "The Green Mile ----- Crime, Drama, Fantasy\n",
            "Psycho ----- Horror, Mystery, Thriller\n",
            "Raiders of the Lost Ark ----- Action, Adventure\n",
            "The Pianist ----- Biography, Drama, Music\n",
            "Rear Window ----- Mystery, Thriller\n",
            "The Departed ----- Crime, Drama, Thriller\n",
            "Whiplash ----- Drama, Music\n",
            "Terminator 2: Judgment Day ----- Action, Sci-Fi, Thriller\n",
            "Back to the Future ----- Adventure, Comedy, Sci-Fi\n",
            "Gladiator ----- Action, Adventure, Drama\n",
            "The Lion King ----- Animation, Adventure, Drama\n",
            "The Prestige ----- Drama, Mystery, Sci-Fi\n",
            "Apocalypse Now ----- Drama, War\n",
            "Memento ----- Mystery, Thriller\n",
            "The Great Dictator ----- Comedy, Drama, War\n",
            "Sunset Boulevard ----- Drama, Film-Noir\n",
            "Alien ----- Horror, Sci-Fi\n",
            "Dr. Strangelove or: How I Learned to Stop Worrying and Love the Bomb ----- Comedy\n",
            "Paths of Glory ----- Drama, War\n",
            "Django Unchained ----- Drama, Western\n",
            "The Shining ----- Drama, Horror\n",
            "Witness for the Prosecution ----- Crime, Drama, Mystery\n",
            "The Dark Knight Rises ----- Action, Thriller\n",
            "WALL·E ----- Animation, Adventure, Family\n",
            "American Beauty ----- Drama, Romance\n",
            "Once Upon a Time in America ----- Crime, Drama\n",
            "Aliens ----- Action, Adventure, Sci-Fi\n",
            "Citizen Kane ----- Drama, Mystery\n",
            "North by Northwest ----- Action, Adventure, Mystery\n",
            "Vertigo ----- Mystery, Romance, Thriller\n",
            "Star Wars: Episode VI - Return of the Jedi ----- Action, Adventure, Fantasy\n",
            "Braveheart ----- Biography, Drama, History\n",
            "Reservoir Dogs ----- Crime, Drama, Thriller\n",
            "Double Indemnity ----- Crime, Drama, Film-Noir\n",
            "Requiem for a Dream ----- Drama\n",
            "Lawrence of Arabia ----- Adventure, Biography, Drama\n",
            "The Kid ----- Comedy, Drama, Family\n",
            "A Clockwork Orange ----- Crime, Drama, Sci-Fi\n",
            "Amadeus ----- Biography, Drama, History\n",
            "To Kill a Mockingbird ----- Crime, Drama\n",
            "Eternal Sunshine of the Spotless Mind ----- Drama, Romance, Sci-Fi\n",
            "Singin' in the Rain ----- Comedy, Musical, Romance\n",
            "Taxi Driver ----- Crime, Drama\n",
            "The Sting ----- Comedy, Crime, Drama\n",
            "Toy Story 3 ----- Animation, Adventure, Comedy\n",
            "2001: A Space Odyssey ----- Adventure, Sci-Fi\n",
            "Full Metal Jacket ----- Drama, War\n",
            "Baby Driver ----- Action, Crime, Music\n",
            "Toy Story ----- Animation, Adventure, Comedy\n",
            "Inglourious Basterds ----- Adventure, Drama, War\n",
            "Snatch ----- Comedy, Crime\n",
            "The Apartment ----- Comedy, Drama, Romance\n",
            "All About Eve ----- Drama\n",
            "Monty Python and the Holy Grail ----- Adventure, Comedy, Fantasy\n",
            "Scarface ----- Crime, Drama\n",
            "L.A. Confidential ----- Crime, Drama, Mystery\n",
            "Good Will Hunting ----- Drama\n",
            "The Treasure of the Sierra Madre ----- Adventure, Drama, Western\n",
            "Indiana Jones and the Last Crusade ----- Action, Adventure, Fantasy\n",
            "Some Like It Hot ----- Comedy, Romance\n",
            "Batman Begins ----- Action, Adventure\n",
            "Up ----- Animation, Adventure, Comedy\n",
            "The Third Man ----- Film-Noir, Mystery, Thriller\n",
            "Unforgiven ----- Drama, Western\n",
            "Judgment at Nuremberg ----- Drama, War\n",
            "Raging Bull ----- Biography, Drama, Sport\n",
            "The Great Escape ----- Adventure, Drama, History\n",
            "Heat ----- Action, Crime, Drama\n",
            "Die Hard ----- Action, Thriller\n",
            "The Gold Rush ----- Adventure, Comedy, Drama\n",
            "Chinatown ----- Drama, Mystery, Thriller\n",
            "On the Waterfront ----- Crime, Drama, Thriller\n",
            "Mr. Smith Goes to Washington ----- Comedy, Drama\n",
            "The General ----- Action, Adventure, Comedy\n",
            "Inside Out ----- Animation, Adventure, Comedy\n",
            "The Bridge on the River Kwai ----- Adventure, Drama, War\n",
            "Room ----- Drama\n",
            "La La Land ----- Comedy, Drama, Music\n",
            "Logan ----- Action, Drama, Sci-Fi\n",
            "Blade Runner ----- Sci-Fi, Thriller\n",
            "Lock, Stock and Two Smoking Barrels ----- Comedy, Crime\n",
            "Casino ----- Crime, Drama\n",
            "A Beautiful Mind ----- Biography, Drama\n",
            "The Elephant Man ----- Biography, Drama\n",
            "Warrior ----- Action, Drama, Sport\n",
            "V for Vendetta ----- Action, Drama, Thriller\n",
            "The Wolf of Wall Street ----- Biography, Comedy, Crime\n",
            "Dial M for Murder ----- Crime, Film-Noir, Thriller\n",
            "Hacksaw Ridge ----- Biography, Drama, History\n",
            "Gone with the Wind ----- Drama, History, Romance\n",
            "The Message ----- Adventure, Biography, Drama\n",
            "Rebecca ----- Drama, Mystery, Romance\n",
            "Trainspotting ----- Drama\n",
            "The Deer Hunter ----- Drama, War\n",
            "Cool Hand Luke ----- Crime, Drama\n",
            "Gran Torino ----- Drama\n",
            "The Big Lebowski ----- Comedy, Crime\n",
            "The Thing ----- Horror, Mystery, Sci-Fi\n",
            "It Happened One Night ----- Comedy, Romance\n",
            "Fargo ----- Crime, Drama, Thriller\n",
            "The Sixth Sense ----- Drama, Mystery, Thriller\n",
            "Finding Nemo ----- Animation, Adventure, Comedy\n",
            "Mary and Max ----- Animation, Comedy, Drama\n",
            "No Country for Old Men ----- Crime, Drama, Thriller\n",
            "How to Train Your Dragon ----- Animation, Action, Adventure\n",
            "There Will Be Blood ----- Drama, History\n",
            "Into the Wild ----- Adventure, Biography, Drama\n",
            "Kill Bill: Vol. 1 ----- Action, Crime, Thriller\n",
            "Gone Girl ----- Crime, Drama, Mystery\n",
            "Life of Brian ----- Comedy\n",
            "Network ----- Drama\n",
            "Shutter Island ----- Mystery, Thriller\n",
            "In the Name of the Father ----- Biography, Drama\n",
            "Rush ----- Action, Biography, Drama\n",
            "Hotel Rwanda ----- Biography, Drama, History\n",
            "Platoon ----- Drama, War\n",
            "Song of the Sea ----- Animation, Adventure, Family\n",
            "Ben-Hur ----- Adventure, Drama, History\n",
            "Stand by Me ----- Adventure, Drama\n",
            "Hachi: A Dog's Tale ----- Drama, Family\n",
            "Kind Hearts and Coronets ----- Comedy, Crime\n",
            "The Maltese Falcon ----- Film-Noir, Mystery\n",
            "Butch Cassidy and the Sundance Kid ----- Biography, Crime, Drama\n",
            "The Legend of 1900 ----- Drama, Music, Romance\n",
            "Spotlight ----- Crime, Drama, History\n",
            "Brief Encounter ----- Drama, Romance\n",
            "The Best Years of Our Lives ----- Drama, Romance, War\n",
            "The Grapes of Wrath ----- Drama, History\n",
            "12 Years a Slave ----- Biography, Drama, History\n",
            "The Grand Budapest Hotel ----- Adventure, Comedy, Drama\n",
            "Mad Max: Fury Road ----- Action, Adventure, Sci-Fi\n",
            "The Princess Bride ----- Adventure, Family, Fantasy\n",
            "What Ever Happened to Baby Jane? ----- Drama, Horror, Thriller\n",
            "Million Dollar Baby ----- Drama, Sport\n",
            "Jurassic Park ----- Adventure, Sci-Fi, Thriller\n",
            "Touch of Evil ----- Crime, Drama, Film-Noir\n",
            "Spider-Man: Homecoming ----- Action, Adventure, Sci-Fi\n",
            "Before Sunrise ----- Drama, Romance\n",
            "The Truman Show ----- Comedy, Drama, Sci-Fi\n",
            "Harry Potter and the Deathly Hallows: Part 2 ----- Adventure, Drama, Fantasy\n",
            "Star Wars: The Force Awakens ----- Action, Adventure, Fantasy\n",
            "Paris, Texas ----- Drama\n",
            "The Last Picture Show ----- Drama\n",
            "Gandhi ----- Biography, Drama, History\n",
            "Barry Lyndon ----- Adventure, Drama, History\n",
            "Rocky ----- Drama, Sport\n",
            "Annie Hall ----- Comedy, Romance\n",
            "Prisoners ----- Crime, Drama, Mystery\n",
            "Donnie Darko ----- Drama, Sci-Fi, Thriller\n",
            "Catch Me If You Can ----- Biography, Crime, Drama\n",
            "The Man Who Shot Liberty Valance ----- Action, Drama, Western\n",
            "Laura ----- Drama, Film-Noir, Mystery\n",
            "Monsters, Inc. ----- Animation, Adventure, Comedy\n",
            "The Bourne Ultimatum ----- Action, Mystery, Thriller\n",
            "Cat on a Hot Tin Roof ----- Drama, Romance\n",
            "The Wizard of Oz ----- Adventure, Family, Fantasy\n",
            "Sleuth ----- Mystery, Thriller\n",
            "Roman Holiday ----- Comedy, Romance\n",
            "Out of the Past ----- Crime, Drama, Film-Noir\n",
            "Anatomy of a Murder ----- Crime, Drama, Mystery\n",
            "Who's Afraid of Virginia Woolf? ----- Drama\n",
            "The Terminator ----- Action, Sci-Fi\n",
            "Groundhog Day ----- Comedy, Fantasy, Romance\n",
            "The Help ----- Drama\n",
            "Strangers on a Train ----- Crime, Film-Noir, Thriller\n",
            "The Night of the Hunter ----- Crime, Drama, Film-Noir\n",
            "All Quiet on the Western Front ----- Drama, War\n",
            "Beauty and the Beast ----- Animation, Family, Fantasy\n",
            "Lion ----- Biography, Drama\n",
            "Twelve Monkeys ----- Mystery, Sci-Fi, Thriller\n",
            "Guardians of the Galaxy ----- Action, Adventure, Sci-Fi\n",
            "Dog Day Afternoon ----- Biography, Crime, Drama\n",
            "Jaws ----- Adventure, Drama, Thriller\n",
            "Zootopia ----- Animation, Adventure, Comedy\n",
            "Guardians of the Galaxy Vol. 2 ----- Action, Adventure, Sci-Fi\n",
            "Pirates of the Caribbean: The Curse of the Black Pearl ----- Action, Adventure, Fantasy\n",
            "Before Sunset ----- Drama, Romance\n",
            "The Imitation Game ----- Biography, Drama, Thriller\n",
            "Young Frankenstein ----- Comedy\n",
            "Stalag 17 ----- Drama, War\n",
            "Dogville ----- Crime, Drama\n",
            "Dead Poets Society ----- Comedy, Drama\n",
            "High Noon ----- Drama, Thriller, Western\n",
            "Papillon ----- Biography, Crime, Drama\n",
            "A Streetcar Named Desire ----- Drama\n",
            "Arsenic and Old Lace ----- Comedy, Crime, Thriller\n",
            "Sin City ----- Crime, Thriller\n",
            "The Hustler ----- Drama, Sport\n",
            "A Night at the Opera ----- Comedy, Music, Musical\n",
            "The Killing ----- Crime, Drama, Film-Noir\n",
            "The Avengers ----- Action, Sci-Fi\n",
            "Notorious ----- Drama, Film-Noir, Romance\n",
            "Harvey ----- Comedy, Drama, Fantasy\n",
            "The Martian ----- Adventure, Drama, Sci-Fi\n",
            "The Exorcist ----- Horror\n",
            "Rio Bravo ----- Action, Drama, Western\n",
            "The Philadelphia Story ----- Comedy, Romance\n",
            "Rope ----- Crime, Drama, Thriller\n",
            "The Big Sleep ----- Crime, Film-Noir, Mystery\n",
            "Pink Floyd: The Wall ----- Animation, Drama, Fantasy\n",
            "The King's Speech ----- Biography, Drama\n",
            "A Christmas Story ----- Comedy, Family\n",
            "The Graduate ----- Comedy, Drama\n",
            "JFK ----- Drama, History, Thriller\n",
            "Sling Blade ----- Drama\n",
            "Blood Diamond ----- Adventure, Drama, Thriller\n",
            "Magnolia ----- Drama\n",
            "Rain Man ----- Drama\n",
            "The Revenant ----- Adventure, Drama, Thriller\n",
            "The Nightmare Before Christmas ----- Animation, Family, Fantasy\n",
            "The Manchurian Candidate ----- Drama, Thriller\n",
            "Deadpool ----- Action, Adventure, Comedy\n",
            "The Wild Bunch ----- Action, Adventure, Western\n",
            "Aladdin ----- Animation, Adventure, Comedy\n",
            "Big Fish ----- Adventure, Drama, Fantasy\n",
            "Patton ----- Biography, Drama, War\n",
            "The Lost Weekend ----- Drama, Film-Noir\n",
            "Short Term 12 ----- Drama\n",
            "His Girl Friday ----- Comedy, Drama, Romance\n",
            "The Straight Story ----- Biography, Drama\n",
            "Slumdog Millionaire ----- Drama\n"
          ],
          "name": "stdout"
        }
      ]
    },
    {
      "cell_type": "code",
      "metadata": {
        "id": "PjoeypbcSg_Y",
        "colab_type": "code",
        "outputId": "cc0d44d1-7968-44f2-f312-d675275c9c68",
        "colab": {
          "base_uri": "https://localhost:8080/",
          "height": 505
        }
      },
      "source": [
        "df"
      ],
      "execution_count": 0,
      "outputs": [
        {
          "output_type": "execute_result",
          "data": {
            "text/html": [
              "<div>\n",
              "<style scoped>\n",
              "    .dataframe tbody tr th:only-of-type {\n",
              "        vertical-align: middle;\n",
              "    }\n",
              "\n",
              "    .dataframe tbody tr th {\n",
              "        vertical-align: top;\n",
              "    }\n",
              "\n",
              "    .dataframe thead th {\n",
              "        text-align: right;\n",
              "    }\n",
              "</style>\n",
              "<table border=\"1\" class=\"dataframe\">\n",
              "  <thead>\n",
              "    <tr style=\"text-align: right;\">\n",
              "      <th></th>\n",
              "      <th>Title</th>\n",
              "      <th>Director</th>\n",
              "      <th>Actors</th>\n",
              "      <th>Plot</th>\n",
              "      <th>Genre</th>\n",
              "    </tr>\n",
              "  </thead>\n",
              "  <tbody>\n",
              "    <tr>\n",
              "      <th>0</th>\n",
              "      <td>The Shawshank Redemption</td>\n",
              "      <td>Frank Darabont</td>\n",
              "      <td>Tim Robbins, Morgan Freeman, Bob Gunton, Willi...</td>\n",
              "      <td>Two imprisoned men bond over a number of years...</td>\n",
              "      <td>Crime, Drama</td>\n",
              "    </tr>\n",
              "    <tr>\n",
              "      <th>1</th>\n",
              "      <td>The Godfather</td>\n",
              "      <td>Francis Ford Coppola</td>\n",
              "      <td>Marlon Brando, Al Pacino, James Caan, Richard ...</td>\n",
              "      <td>The aging patriarch of an organized crime dyna...</td>\n",
              "      <td>Crime, Drama</td>\n",
              "    </tr>\n",
              "    <tr>\n",
              "      <th>2</th>\n",
              "      <td>The Godfather: Part II</td>\n",
              "      <td>Francis Ford Coppola</td>\n",
              "      <td>Al Pacino, Robert Duvall, Diane Keaton, Robert...</td>\n",
              "      <td>The early life and career of Vito Corleone in ...</td>\n",
              "      <td>Crime, Drama</td>\n",
              "    </tr>\n",
              "    <tr>\n",
              "      <th>3</th>\n",
              "      <td>The Dark Knight</td>\n",
              "      <td>Christopher Nolan</td>\n",
              "      <td>Christian Bale, Heath Ledger, Aaron Eckhart, M...</td>\n",
              "      <td>When the menace known as the Joker emerges fro...</td>\n",
              "      <td>Action, Crime, Drama</td>\n",
              "    </tr>\n",
              "    <tr>\n",
              "      <th>4</th>\n",
              "      <td>12 Angry Men</td>\n",
              "      <td>Sidney Lumet</td>\n",
              "      <td>Martin Balsam, John Fiedler, Lee J. Cobb, E.G....</td>\n",
              "      <td>A jury holdout attempts to prevent a miscarria...</td>\n",
              "      <td>Crime, Drama</td>\n",
              "    </tr>\n",
              "    <tr>\n",
              "      <th>...</th>\n",
              "      <td>...</td>\n",
              "      <td>...</td>\n",
              "      <td>...</td>\n",
              "      <td>...</td>\n",
              "      <td>...</td>\n",
              "    </tr>\n",
              "    <tr>\n",
              "      <th>245</th>\n",
              "      <td>The Lost Weekend</td>\n",
              "      <td>Billy Wilder</td>\n",
              "      <td>Ray Milland, Jane Wyman, Phillip Terry, Howard...</td>\n",
              "      <td>The desperate life of a chronic alcoholic is f...</td>\n",
              "      <td>Drama, Film-Noir</td>\n",
              "    </tr>\n",
              "    <tr>\n",
              "      <th>246</th>\n",
              "      <td>Short Term 12</td>\n",
              "      <td>Destin Daniel Cretton</td>\n",
              "      <td>Brie Larson, John Gallagher Jr., Stephanie Bea...</td>\n",
              "      <td>A 20-something supervising staff member of a r...</td>\n",
              "      <td>Drama</td>\n",
              "    </tr>\n",
              "    <tr>\n",
              "      <th>247</th>\n",
              "      <td>His Girl Friday</td>\n",
              "      <td>Howard Hawks</td>\n",
              "      <td>Cary Grant, Rosalind Russell, Ralph Bellamy, G...</td>\n",
              "      <td>A newspaper editor uses every trick in the boo...</td>\n",
              "      <td>Comedy, Drama, Romance</td>\n",
              "    </tr>\n",
              "    <tr>\n",
              "      <th>248</th>\n",
              "      <td>The Straight Story</td>\n",
              "      <td>David Lynch</td>\n",
              "      <td>Sissy Spacek, Jane Galloway Heitz, Joseph A. C...</td>\n",
              "      <td>An old man makes a long journey by lawn-mover ...</td>\n",
              "      <td>Biography, Drama</td>\n",
              "    </tr>\n",
              "    <tr>\n",
              "      <th>249</th>\n",
              "      <td>Slumdog Millionaire</td>\n",
              "      <td>Danny Boyle, Loveleen Tandan</td>\n",
              "      <td>Dev Patel, Saurabh Shukla, Anil Kapoor, Raj Zu...</td>\n",
              "      <td>A Mumbai teen reflects on his upbringing in th...</td>\n",
              "      <td>Drama</td>\n",
              "    </tr>\n",
              "  </tbody>\n",
              "</table>\n",
              "<p>250 rows × 5 columns</p>\n",
              "</div>"
            ],
            "text/plain": [
              "                        Title  ...                   Genre\n",
              "0    The Shawshank Redemption  ...            Crime, Drama\n",
              "1               The Godfather  ...            Crime, Drama\n",
              "2      The Godfather: Part II  ...            Crime, Drama\n",
              "3             The Dark Knight  ...    Action, Crime, Drama\n",
              "4                12 Angry Men  ...            Crime, Drama\n",
              "..                        ...  ...                     ...\n",
              "245          The Lost Weekend  ...        Drama, Film-Noir\n",
              "246             Short Term 12  ...                   Drama\n",
              "247           His Girl Friday  ...  Comedy, Drama, Romance\n",
              "248        The Straight Story  ...        Biography, Drama\n",
              "249       Slumdog Millionaire  ...                   Drama\n",
              "\n",
              "[250 rows x 5 columns]"
            ]
          },
          "metadata": {
            "tags": []
          },
          "execution_count": 10
        }
      ]
    },
    {
      "cell_type": "code",
      "metadata": {
        "id": "_eRHpX98ZdFx",
        "colab_type": "code",
        "outputId": "f54b6db3-547a-40b3-c9af-f409be190bbc",
        "colab": {
          "base_uri": "https://localhost:8080/",
          "height": 217
        }
      },
      "source": [
        "df.info()"
      ],
      "execution_count": 0,
      "outputs": [
        {
          "output_type": "stream",
          "text": [
            "<class 'pandas.core.frame.DataFrame'>\n",
            "RangeIndex: 250 entries, 0 to 249\n",
            "Data columns (total 5 columns):\n",
            " #   Column    Non-Null Count  Dtype \n",
            "---  ------    --------------  ----- \n",
            " 0   Title     250 non-null    object\n",
            " 1   Director  250 non-null    object\n",
            " 2   Actors    250 non-null    object\n",
            " 3   Plot      250 non-null    object\n",
            " 4   Genre     250 non-null    object\n",
            "dtypes: object(5)\n",
            "memory usage: 9.9+ KB\n"
          ],
          "name": "stdout"
        }
      ]
    },
    {
      "cell_type": "code",
      "metadata": {
        "id": "58viI_TgabOr",
        "colab_type": "code",
        "outputId": "6a59c4c1-d3c2-4e40-8250-6ca030c25f1e",
        "colab": {
          "base_uri": "https://localhost:8080/",
          "height": 196
        }
      },
      "source": [
        "df.describe().T"
      ],
      "execution_count": 0,
      "outputs": [
        {
          "output_type": "execute_result",
          "data": {
            "text/html": [
              "<div>\n",
              "<style scoped>\n",
              "    .dataframe tbody tr th:only-of-type {\n",
              "        vertical-align: middle;\n",
              "    }\n",
              "\n",
              "    .dataframe tbody tr th {\n",
              "        vertical-align: top;\n",
              "    }\n",
              "\n",
              "    .dataframe thead th {\n",
              "        text-align: right;\n",
              "    }\n",
              "</style>\n",
              "<table border=\"1\" class=\"dataframe\">\n",
              "  <thead>\n",
              "    <tr style=\"text-align: right;\">\n",
              "      <th></th>\n",
              "      <th>count</th>\n",
              "      <th>unique</th>\n",
              "      <th>top</th>\n",
              "      <th>freq</th>\n",
              "    </tr>\n",
              "  </thead>\n",
              "  <tbody>\n",
              "    <tr>\n",
              "      <th>Title</th>\n",
              "      <td>250</td>\n",
              "      <td>250</td>\n",
              "      <td>Twelve Monkeys</td>\n",
              "      <td>1</td>\n",
              "    </tr>\n",
              "    <tr>\n",
              "      <th>Director</th>\n",
              "      <td>250</td>\n",
              "      <td>155</td>\n",
              "      <td>Alfred Hitchcock</td>\n",
              "      <td>9</td>\n",
              "    </tr>\n",
              "    <tr>\n",
              "      <th>Actors</th>\n",
              "      <td>250</td>\n",
              "      <td>248</td>\n",
              "      <td>Chris Pratt, Zoe Saldana, Dave Bautista, Vin D...</td>\n",
              "      <td>2</td>\n",
              "    </tr>\n",
              "    <tr>\n",
              "      <th>Plot</th>\n",
              "      <td>250</td>\n",
              "      <td>250</td>\n",
              "      <td>A boy who communicates with spirits that don't...</td>\n",
              "      <td>1</td>\n",
              "    </tr>\n",
              "    <tr>\n",
              "      <th>Genre</th>\n",
              "      <td>250</td>\n",
              "      <td>110</td>\n",
              "      <td>Drama</td>\n",
              "      <td>19</td>\n",
              "    </tr>\n",
              "  </tbody>\n",
              "</table>\n",
              "</div>"
            ],
            "text/plain": [
              "         count unique                                                top freq\n",
              "Title      250    250                                     Twelve Monkeys    1\n",
              "Director   250    155                                   Alfred Hitchcock    9\n",
              "Actors     250    248  Chris Pratt, Zoe Saldana, Dave Bautista, Vin D...    2\n",
              "Plot       250    250  A boy who communicates with spirits that don't...    1\n",
              "Genre      250    110                                              Drama   19"
            ]
          },
          "metadata": {
            "tags": []
          },
          "execution_count": 12
        }
      ]
    },
    {
      "cell_type": "code",
      "metadata": {
        "id": "Q-kwhimFapy0",
        "colab_type": "code",
        "outputId": "8931097b-801e-4948-97a1-660f19ccc296",
        "colab": {
          "base_uri": "https://localhost:8080/",
          "height": 614
        }
      },
      "source": [
        "df.loc[(df.Genre == 'Drama')]"
      ],
      "execution_count": 0,
      "outputs": [
        {
          "output_type": "execute_result",
          "data": {
            "text/html": [
              "<div>\n",
              "<style scoped>\n",
              "    .dataframe tbody tr th:only-of-type {\n",
              "        vertical-align: middle;\n",
              "    }\n",
              "\n",
              "    .dataframe tbody tr th {\n",
              "        vertical-align: top;\n",
              "    }\n",
              "\n",
              "    .dataframe thead th {\n",
              "        text-align: right;\n",
              "    }\n",
              "</style>\n",
              "<table border=\"1\" class=\"dataframe\">\n",
              "  <thead>\n",
              "    <tr style=\"text-align: right;\">\n",
              "      <th></th>\n",
              "      <th>Title</th>\n",
              "      <th>Director</th>\n",
              "      <th>Actors</th>\n",
              "      <th>Plot</th>\n",
              "      <th>Genre</th>\n",
              "    </tr>\n",
              "  </thead>\n",
              "  <tbody>\n",
              "    <tr>\n",
              "      <th>8</th>\n",
              "      <td>Fight Club</td>\n",
              "      <td>David Fincher</td>\n",
              "      <td>Edward Norton, Brad Pitt, Meat Loaf, Zach Grenier</td>\n",
              "      <td>An insomniac office worker, looking for a way ...</td>\n",
              "      <td>Drama</td>\n",
              "    </tr>\n",
              "    <tr>\n",
              "      <th>14</th>\n",
              "      <td>One Flew Over the Cuckoo's Nest</td>\n",
              "      <td>Milos Forman</td>\n",
              "      <td>Michael Berryman, Peter Brocco, Dean R. Brooks...</td>\n",
              "      <td>A criminal pleads insanity after getting into ...</td>\n",
              "      <td>Drama</td>\n",
              "    </tr>\n",
              "    <tr>\n",
              "      <th>63</th>\n",
              "      <td>Requiem for a Dream</td>\n",
              "      <td>Darren Aronofsky</td>\n",
              "      <td>Ellen Burstyn, Jared Leto, Jennifer Connelly, ...</td>\n",
              "      <td>The drug-induced utopias of four Coney Island ...</td>\n",
              "      <td>Drama</td>\n",
              "    </tr>\n",
              "    <tr>\n",
              "      <th>81</th>\n",
              "      <td>All About Eve</td>\n",
              "      <td>Joseph L. Mankiewicz</td>\n",
              "      <td>Bette Davis, Anne Baxter, George Sanders, Cele...</td>\n",
              "      <td>An ingenue insinuates herself into the company...</td>\n",
              "      <td>Drama</td>\n",
              "    </tr>\n",
              "    <tr>\n",
              "      <th>85</th>\n",
              "      <td>Good Will Hunting</td>\n",
              "      <td>Gus Van Sant</td>\n",
              "      <td>Matt Damon, Ben Affleck, Stellan Skarsgård, Jo...</td>\n",
              "      <td>Will Hunting, a janitor at M.I.T., has a gift ...</td>\n",
              "      <td>Drama</td>\n",
              "    </tr>\n",
              "    <tr>\n",
              "      <th>105</th>\n",
              "      <td>Room</td>\n",
              "      <td>Lenny Abrahamson</td>\n",
              "      <td>Brie Larson, Jacob Tremblay, Sean Bridgers, We...</td>\n",
              "      <td>A young boy is raised within the confines of a...</td>\n",
              "      <td>Drama</td>\n",
              "    </tr>\n",
              "    <tr>\n",
              "      <th>121</th>\n",
              "      <td>Trainspotting</td>\n",
              "      <td>Danny Boyle</td>\n",
              "      <td>Ewan McGregor, Ewen Bremner, Jonny Lee Miller,...</td>\n",
              "      <td>Renton, deeply immersed in the Edinburgh drug ...</td>\n",
              "      <td>Drama</td>\n",
              "    </tr>\n",
              "    <tr>\n",
              "      <th>124</th>\n",
              "      <td>Gran Torino</td>\n",
              "      <td>Clint Eastwood</td>\n",
              "      <td>Clint Eastwood, Christopher Carley, Bee Vang, ...</td>\n",
              "      <td>Disgruntled Korean War veteran Walt Kowalski s...</td>\n",
              "      <td>Drama</td>\n",
              "    </tr>\n",
              "    <tr>\n",
              "      <th>139</th>\n",
              "      <td>Network</td>\n",
              "      <td>Sidney Lumet</td>\n",
              "      <td>Faye Dunaway, William Holden, Peter Finch, Rob...</td>\n",
              "      <td>A television network cynically exploits a dera...</td>\n",
              "      <td>Drama</td>\n",
              "    </tr>\n",
              "    <tr>\n",
              "      <th>170</th>\n",
              "      <td>Paris, Texas</td>\n",
              "      <td>Wim Wenders</td>\n",
              "      <td>Harry Dean Stanton, Sam Berry, Bernhard Wicki,...</td>\n",
              "      <td>Travis Henderson, an aimless drifter who has b...</td>\n",
              "      <td>Drama</td>\n",
              "    </tr>\n",
              "    <tr>\n",
              "      <th>171</th>\n",
              "      <td>The Last Picture Show</td>\n",
              "      <td>Peter Bogdanovich</td>\n",
              "      <td>Timothy Bottoms, Jeff Bridges, Cybill Shepherd...</td>\n",
              "      <td>In 1951, a group of high schoolers come of age...</td>\n",
              "      <td>Drama</td>\n",
              "    </tr>\n",
              "    <tr>\n",
              "      <th>189</th>\n",
              "      <td>Who's Afraid of Virginia Woolf?</td>\n",
              "      <td>Mike Nichols</td>\n",
              "      <td>Elizabeth Taylor, Richard Burton, George Segal...</td>\n",
              "      <td>A bitter, aging couple, with the help of alcoh...</td>\n",
              "      <td>Drama</td>\n",
              "    </tr>\n",
              "    <tr>\n",
              "      <th>192</th>\n",
              "      <td>The Help</td>\n",
              "      <td>Tate Taylor</td>\n",
              "      <td>Emma Stone, Viola Davis, Bryce Dallas Howard, ...</td>\n",
              "      <td>An aspiring author during the civil rights mov...</td>\n",
              "      <td>Drama</td>\n",
              "    </tr>\n",
              "    <tr>\n",
              "      <th>213</th>\n",
              "      <td>A Streetcar Named Desire</td>\n",
              "      <td>Elia Kazan</td>\n",
              "      <td>Vivien Leigh, Marlon Brando, Kim Hunter, Karl ...</td>\n",
              "      <td>Disturbed Blanche DuBois moves in with her sis...</td>\n",
              "      <td>Drama</td>\n",
              "    </tr>\n",
              "    <tr>\n",
              "      <th>233</th>\n",
              "      <td>Sling Blade</td>\n",
              "      <td>Billy Bob Thornton</td>\n",
              "      <td>Billy Bob Thornton, Dwight Yoakam, J.T. Walsh,...</td>\n",
              "      <td>Karl Childers, a simple man hospitalized since...</td>\n",
              "      <td>Drama</td>\n",
              "    </tr>\n",
              "    <tr>\n",
              "      <th>235</th>\n",
              "      <td>Magnolia</td>\n",
              "      <td>Paul Thomas Anderson</td>\n",
              "      <td>Pat Healy, Genevieve Zweig, Mark Flanagan, Nei...</td>\n",
              "      <td>An epic mosaic of interrelated characters in s...</td>\n",
              "      <td>Drama</td>\n",
              "    </tr>\n",
              "    <tr>\n",
              "      <th>236</th>\n",
              "      <td>Rain Man</td>\n",
              "      <td>Barry Levinson</td>\n",
              "      <td>Dustin Hoffman, Tom Cruise, Valeria Golino, Ge...</td>\n",
              "      <td>Selfish yuppie Charlie Babbitt's father left a...</td>\n",
              "      <td>Drama</td>\n",
              "    </tr>\n",
              "    <tr>\n",
              "      <th>246</th>\n",
              "      <td>Short Term 12</td>\n",
              "      <td>Destin Daniel Cretton</td>\n",
              "      <td>Brie Larson, John Gallagher Jr., Stephanie Bea...</td>\n",
              "      <td>A 20-something supervising staff member of a r...</td>\n",
              "      <td>Drama</td>\n",
              "    </tr>\n",
              "    <tr>\n",
              "      <th>249</th>\n",
              "      <td>Slumdog Millionaire</td>\n",
              "      <td>Danny Boyle, Loveleen Tandan</td>\n",
              "      <td>Dev Patel, Saurabh Shukla, Anil Kapoor, Raj Zu...</td>\n",
              "      <td>A Mumbai teen reflects on his upbringing in th...</td>\n",
              "      <td>Drama</td>\n",
              "    </tr>\n",
              "  </tbody>\n",
              "</table>\n",
              "</div>"
            ],
            "text/plain": [
              "                               Title  ...  Genre\n",
              "8                         Fight Club  ...  Drama\n",
              "14   One Flew Over the Cuckoo's Nest  ...  Drama\n",
              "63               Requiem for a Dream  ...  Drama\n",
              "81                     All About Eve  ...  Drama\n",
              "85                 Good Will Hunting  ...  Drama\n",
              "105                             Room  ...  Drama\n",
              "121                    Trainspotting  ...  Drama\n",
              "124                      Gran Torino  ...  Drama\n",
              "139                          Network  ...  Drama\n",
              "170                     Paris, Texas  ...  Drama\n",
              "171            The Last Picture Show  ...  Drama\n",
              "189  Who's Afraid of Virginia Woolf?  ...  Drama\n",
              "192                         The Help  ...  Drama\n",
              "213         A Streetcar Named Desire  ...  Drama\n",
              "233                      Sling Blade  ...  Drama\n",
              "235                         Magnolia  ...  Drama\n",
              "236                         Rain Man  ...  Drama\n",
              "246                    Short Term 12  ...  Drama\n",
              "249              Slumdog Millionaire  ...  Drama\n",
              "\n",
              "[19 rows x 5 columns]"
            ]
          },
          "metadata": {
            "tags": []
          },
          "execution_count": 13
        }
      ]
    },
    {
      "cell_type": "code",
      "metadata": {
        "id": "HjZvoiWmbL_z",
        "colab_type": "code",
        "outputId": "55e3a24e-8610-4b69-9e6e-25f814a45d93",
        "colab": {
          "base_uri": "https://localhost:8080/",
          "height": 217
        }
      },
      "source": [
        "df.Genre.value_counts()"
      ],
      "execution_count": 0,
      "outputs": [
        {
          "output_type": "execute_result",
          "data": {
            "text/plain": [
              "Drama                           19\n",
              "Crime, Drama                    14\n",
              "Drama, War                       9\n",
              "Crime, Drama, Thriller           8\n",
              "Animation, Adventure, Comedy     8\n",
              "                                ..\n",
              "Action, Biography, Drama         1\n",
              "Drama, Music                     1\n",
              "Biography, Drama, Thriller       1\n",
              "Mystery, Romance, Thriller       1\n",
              "Action, Adventure, Drama         1\n",
              "Name: Genre, Length: 110, dtype: int64"
            ]
          },
          "metadata": {
            "tags": []
          },
          "execution_count": 14
        }
      ]
    },
    {
      "cell_type": "code",
      "metadata": {
        "id": "hA1GFo6ybW_s",
        "colab_type": "code",
        "outputId": "57bcefc9-26bf-4296-96a7-f0ef481337a4",
        "colab": {
          "base_uri": "https://localhost:8080/",
          "height": 217
        }
      },
      "source": [
        "df.Director.value_counts()"
      ],
      "execution_count": 0,
      "outputs": [
        {
          "output_type": "execute_result",
          "data": {
            "text/plain": [
              "Alfred Hitchcock             9\n",
              "Stanley Kubrick              8\n",
              "Billy Wilder                 7\n",
              "Martin Scorsese              7\n",
              "Steven Spielberg             7\n",
              "                            ..\n",
              "Jon Watts                    1\n",
              "Lee Unkrich                  1\n",
              "Stanley Donen, Gene Kelly    1\n",
              "Stanley Kramer               1\n",
              "John McTiernan               1\n",
              "Name: Director, Length: 155, dtype: int64"
            ]
          },
          "metadata": {
            "tags": []
          },
          "execution_count": 15
        }
      ]
    },
    {
      "cell_type": "code",
      "metadata": {
        "id": "6k-CiPgubodw",
        "colab_type": "code",
        "colab": {}
      },
      "source": [
        "df['Plot']=df['Plot'].str.replace('[^\\w\\s]','')"
      ],
      "execution_count": 0,
      "outputs": []
    },
    {
      "cell_type": "code",
      "metadata": {
        "id": "59ZD6Jz8ea8D",
        "colab_type": "code",
        "outputId": "62a81817-cc14-47b2-dc9a-172c08b03b8c",
        "colab": {
          "base_uri": "https://localhost:8080/",
          "height": 217
        }
      },
      "source": [
        "df['Plot']"
      ],
      "execution_count": 0,
      "outputs": [
        {
          "output_type": "execute_result",
          "data": {
            "text/plain": [
              "0      Two imprisoned men bond over a number of years...\n",
              "1      The aging patriarch of an organized crime dyna...\n",
              "2      The early life and career of Vito Corleone in ...\n",
              "3      When the menace known as the Joker emerges fro...\n",
              "4      A jury holdout attempts to prevent a miscarria...\n",
              "                             ...                        \n",
              "245    The desperate life of a chronic alcoholic is f...\n",
              "246    A 20something supervising staff member of a re...\n",
              "247    A newspaper editor uses every trick in the boo...\n",
              "248    An old man makes a long journey by lawnmover t...\n",
              "249    A Mumbai teen reflects on his upbringing in th...\n",
              "Name: Plot, Length: 250, dtype: object"
            ]
          },
          "metadata": {
            "tags": []
          },
          "execution_count": 17
        }
      ]
    },
    {
      "cell_type": "code",
      "metadata": {
        "id": "TDUNuZsuej2f",
        "colab_type": "code",
        "outputId": "641b34c1-6425-480e-b936-b789bb7965d0",
        "colab": {
          "base_uri": "https://localhost:8080/",
          "height": 201
        }
      },
      "source": [
        "pip install rake_nltk"
      ],
      "execution_count": 0,
      "outputs": [
        {
          "output_type": "stream",
          "text": [
            "Collecting rake_nltk\n",
            "  Downloading https://files.pythonhosted.org/packages/8e/c4/b4ff57e541ac5624ad4b20b89c2bafd4e98f29fd83139f3a81858bdb3815/rake_nltk-1.0.4.tar.gz\n",
            "Requirement already satisfied: nltk in /usr/local/lib/python3.6/dist-packages (from rake_nltk) (3.2.5)\n",
            "Requirement already satisfied: six in /usr/local/lib/python3.6/dist-packages (from nltk->rake_nltk) (1.12.0)\n",
            "Building wheels for collected packages: rake-nltk\n",
            "  Building wheel for rake-nltk (setup.py) ... \u001b[?25l\u001b[?25hdone\n",
            "  Created wheel for rake-nltk: filename=rake_nltk-1.0.4-py2.py3-none-any.whl size=7819 sha256=1b65216b6deafd4bd2ddf693bbba80c02a81624264c21eb5d4d1687a97db5b50\n",
            "  Stored in directory: /root/.cache/pip/wheels/ef/92/fc/271b3709e71a96ffe934b27818946b795ac6b9b8ff8682483f\n",
            "Successfully built rake-nltk\n",
            "Installing collected packages: rake-nltk\n",
            "Successfully installed rake-nltk-1.0.4\n"
          ],
          "name": "stdout"
        }
      ]
    },
    {
      "cell_type": "code",
      "metadata": {
        "id": "NRuV6K6revEy",
        "colab_type": "code",
        "colab": {}
      },
      "source": [
        "from rake_nltk import Rake\n",
        "df['KeyWords']=''\n",
        "r=Rake()"
      ],
      "execution_count": 0,
      "outputs": []
    },
    {
      "cell_type": "code",
      "metadata": {
        "id": "t-CPRrjbe7QD",
        "colab_type": "code",
        "colab": {}
      },
      "source": [
        ""
      ],
      "execution_count": 0,
      "outputs": []
    },
    {
      "cell_type": "code",
      "metadata": {
        "id": "7Xv-un4sgLsU",
        "colab_type": "code",
        "colab": {}
      },
      "source": [
        "import nltk\n",
        "from sklearn.metrics.pairwise import cosine_similarity\n",
        "from sklearn.feature_extraction.text import CountVectorizer\n",
        "import warnings\n",
        "warnings.filterwarnings(\"ignore\")"
      ],
      "execution_count": 0,
      "outputs": []
    },
    {
      "cell_type": "code",
      "metadata": {
        "id": "VAVAG8pDhs43",
        "colab_type": "code",
        "colab": {}
      },
      "source": [
        ""
      ],
      "execution_count": 0,
      "outputs": []
    },
    {
      "cell_type": "code",
      "metadata": {
        "id": "9d0-4Kach1rj",
        "colab_type": "code",
        "colab": {}
      },
      "source": [
        "for index,row in df.iterrows():\n",
        "  r.extract_keywords_from_text(row['Plot'])\n",
        "  key_words_dict_scores=r.get_word_degrees()\n",
        "  row['KeyWords']=list(key_words_dict_scores.keys())"
      ],
      "execution_count": 0,
      "outputs": []
    },
    {
      "cell_type": "code",
      "metadata": {
        "id": "X6tlG5Nvl01J",
        "colab_type": "code",
        "colab": {}
      },
      "source": [
        "#df.drop(['Key_Words'], axis=1,inplace=True)"
      ],
      "execution_count": 0,
      "outputs": []
    },
    {
      "cell_type": "code",
      "metadata": {
        "id": "jd-Ozv7umOfK",
        "colab_type": "code",
        "outputId": "af9211d3-8244-4f0c-e151-ca7dbc8eca81",
        "colab": {
          "base_uri": "https://localhost:8080/",
          "height": 33
        }
      },
      "source": [
        "df['Plot'][249]"
      ],
      "execution_count": 0,
      "outputs": [
        {
          "output_type": "execute_result",
          "data": {
            "text/plain": [
              "'A Mumbai teen reflects on his upbringing in the slums when he is accused of cheating on the Indian Version of Who Wants to be a Millionaire'"
            ]
          },
          "metadata": {
            "tags": []
          },
          "execution_count": 23
        }
      ]
    },
    {
      "cell_type": "code",
      "metadata": {
        "id": "1LCeWUQvmjPc",
        "colab_type": "code",
        "outputId": "4a2d6765-1550-4ada-efc1-80231002f8a4",
        "colab": {
          "base_uri": "https://localhost:8080/",
          "height": 217
        }
      },
      "source": [
        "key_words_dict_scores"
      ],
      "execution_count": 0,
      "outputs": [
        {
          "output_type": "execute_result",
          "data": {
            "text/plain": [
              "defaultdict(<function rake_nltk.rake.Rake._build_word_co_occurance_graph.<locals>.<lambda>>,\n",
              "            {'accused': 1,\n",
              "             'cheating': 1,\n",
              "             'indian': 2,\n",
              "             'millionaire': 1,\n",
              "             'mumbai': 3,\n",
              "             'reflects': 3,\n",
              "             'slums': 1,\n",
              "             'teen': 3,\n",
              "             'upbringing': 1,\n",
              "             'version': 2,\n",
              "             'wants': 1})"
            ]
          },
          "metadata": {
            "tags": []
          },
          "execution_count": 24
        }
      ]
    },
    {
      "cell_type": "code",
      "metadata": {
        "id": "sycid9ZYmvuv",
        "colab_type": "code",
        "outputId": "b9c47142-d8f6-4fb5-cb55-0c58c56c15ae",
        "colab": {
          "base_uri": "https://localhost:8080/",
          "height": 572
        }
      },
      "source": [
        "df"
      ],
      "execution_count": 0,
      "outputs": [
        {
          "output_type": "execute_result",
          "data": {
            "text/html": [
              "<div>\n",
              "<style scoped>\n",
              "    .dataframe tbody tr th:only-of-type {\n",
              "        vertical-align: middle;\n",
              "    }\n",
              "\n",
              "    .dataframe tbody tr th {\n",
              "        vertical-align: top;\n",
              "    }\n",
              "\n",
              "    .dataframe thead th {\n",
              "        text-align: right;\n",
              "    }\n",
              "</style>\n",
              "<table border=\"1\" class=\"dataframe\">\n",
              "  <thead>\n",
              "    <tr style=\"text-align: right;\">\n",
              "      <th></th>\n",
              "      <th>Title</th>\n",
              "      <th>Director</th>\n",
              "      <th>Actors</th>\n",
              "      <th>Plot</th>\n",
              "      <th>Genre</th>\n",
              "      <th>KeyWords</th>\n",
              "    </tr>\n",
              "  </thead>\n",
              "  <tbody>\n",
              "    <tr>\n",
              "      <th>0</th>\n",
              "      <td>The Shawshank Redemption</td>\n",
              "      <td>Frank Darabont</td>\n",
              "      <td>Tim Robbins, Morgan Freeman, Bob Gunton, Willi...</td>\n",
              "      <td>Two imprisoned men bond over a number of years...</td>\n",
              "      <td>Crime, Drama</td>\n",
              "      <td>[number, acts, eventual, redemption, years, fi...</td>\n",
              "    </tr>\n",
              "    <tr>\n",
              "      <th>1</th>\n",
              "      <td>The Godfather</td>\n",
              "      <td>Francis Ford Coppola</td>\n",
              "      <td>Marlon Brando, Al Pacino, James Caan, Richard ...</td>\n",
              "      <td>The aging patriarch of an organized crime dyna...</td>\n",
              "      <td>Crime, Drama</td>\n",
              "      <td>[organized, crime, dynasty, transfers, control...</td>\n",
              "    </tr>\n",
              "    <tr>\n",
              "      <th>2</th>\n",
              "      <td>The Godfather: Part II</td>\n",
              "      <td>Francis Ford Coppola</td>\n",
              "      <td>Al Pacino, Robert Duvall, Diane Keaton, Robert...</td>\n",
              "      <td>The early life and career of Vito Corleone in ...</td>\n",
              "      <td>Crime, Drama</td>\n",
              "      <td>[career, portrayed, son, michael, expands, tig...</td>\n",
              "    </tr>\n",
              "    <tr>\n",
              "      <th>3</th>\n",
              "      <td>The Dark Knight</td>\n",
              "      <td>Christopher Nolan</td>\n",
              "      <td>Christian Bale, Heath Ledger, Aaron Eckhart, M...</td>\n",
              "      <td>When the menace known as the Joker emerges fro...</td>\n",
              "      <td>Action, Crime, Drama</td>\n",
              "      <td>[dark, knight, must, accept, one, chaos, myste...</td>\n",
              "    </tr>\n",
              "    <tr>\n",
              "      <th>4</th>\n",
              "      <td>12 Angry Men</td>\n",
              "      <td>Sidney Lumet</td>\n",
              "      <td>Martin Balsam, John Fiedler, Lee J. Cobb, E.G....</td>\n",
              "      <td>A jury holdout attempts to prevent a miscarria...</td>\n",
              "      <td>Crime, Drama</td>\n",
              "      <td>[evidence, justice, prevent, miscarriage, reco...</td>\n",
              "    </tr>\n",
              "    <tr>\n",
              "      <th>...</th>\n",
              "      <td>...</td>\n",
              "      <td>...</td>\n",
              "      <td>...</td>\n",
              "      <td>...</td>\n",
              "      <td>...</td>\n",
              "      <td>...</td>\n",
              "    </tr>\n",
              "    <tr>\n",
              "      <th>245</th>\n",
              "      <td>The Lost Weekend</td>\n",
              "      <td>Billy Wilder</td>\n",
              "      <td>Ray Milland, Jane Wyman, Phillip Terry, Howard...</td>\n",
              "      <td>The desperate life of a chronic alcoholic is f...</td>\n",
              "      <td>Drama, Film-Noir</td>\n",
              "      <td>[followed, desperate, life, fourday, drinking,...</td>\n",
              "    </tr>\n",
              "    <tr>\n",
              "      <th>246</th>\n",
              "      <td>Short Term 12</td>\n",
              "      <td>Destin Daniel Cretton</td>\n",
              "      <td>Brie Larson, John Gallagher Jr., Stephanie Bea...</td>\n",
              "      <td>A 20something supervising staff member of a re...</td>\n",
              "      <td>Drama</td>\n",
              "      <td>[residential, treatment, facility, navigates, ...</td>\n",
              "    </tr>\n",
              "    <tr>\n",
              "      <th>247</th>\n",
              "      <td>His Girl Friday</td>\n",
              "      <td>Howard Hawks</td>\n",
              "      <td>Cary Grant, Rosalind Russell, Ralph Bellamy, G...</td>\n",
              "      <td>A newspaper editor uses every trick in the boo...</td>\n",
              "      <td>Comedy, Drama, Romance</td>\n",
              "      <td>[newspaper, editor, uses, every, trick, keep, ...</td>\n",
              "    </tr>\n",
              "    <tr>\n",
              "      <th>248</th>\n",
              "      <td>The Straight Story</td>\n",
              "      <td>David Lynch</td>\n",
              "      <td>Sissy Spacek, Jane Galloway Heitz, Joseph A. C...</td>\n",
              "      <td>An old man makes a long journey by lawnmover t...</td>\n",
              "      <td>Biography, Drama</td>\n",
              "      <td>[mend, long, journey, relationship, old, man, ...</td>\n",
              "    </tr>\n",
              "    <tr>\n",
              "      <th>249</th>\n",
              "      <td>Slumdog Millionaire</td>\n",
              "      <td>Danny Boyle, Loveleen Tandan</td>\n",
              "      <td>Dev Patel, Saurabh Shukla, Anil Kapoor, Raj Zu...</td>\n",
              "      <td>A Mumbai teen reflects on his upbringing in th...</td>\n",
              "      <td>Drama</td>\n",
              "      <td>[accused, indian, version, upbringing, cheatin...</td>\n",
              "    </tr>\n",
              "  </tbody>\n",
              "</table>\n",
              "<p>250 rows × 6 columns</p>\n",
              "</div>"
            ],
            "text/plain": [
              "                        Title  ...                                           KeyWords\n",
              "0    The Shawshank Redemption  ...  [number, acts, eventual, redemption, years, fi...\n",
              "1               The Godfather  ...  [organized, crime, dynasty, transfers, control...\n",
              "2      The Godfather: Part II  ...  [career, portrayed, son, michael, expands, tig...\n",
              "3             The Dark Knight  ...  [dark, knight, must, accept, one, chaos, myste...\n",
              "4                12 Angry Men  ...  [evidence, justice, prevent, miscarriage, reco...\n",
              "..                        ...  ...                                                ...\n",
              "245          The Lost Weekend  ...  [followed, desperate, life, fourday, drinking,...\n",
              "246             Short Term 12  ...  [residential, treatment, facility, navigates, ...\n",
              "247           His Girl Friday  ...  [newspaper, editor, uses, every, trick, keep, ...\n",
              "248        The Straight Story  ...  [mend, long, journey, relationship, old, man, ...\n",
              "249       Slumdog Millionaire  ...  [accused, indian, version, upbringing, cheatin...\n",
              "\n",
              "[250 rows x 6 columns]"
            ]
          },
          "metadata": {
            "tags": []
          },
          "execution_count": 25
        }
      ]
    },
    {
      "cell_type": "code",
      "metadata": {
        "id": "TJk7x0UTnPNu",
        "colab_type": "code",
        "colab": {}
      },
      "source": [
        "df['Genre'] = df['Genre'].map(lambda x: x.split(','))"
      ],
      "execution_count": 0,
      "outputs": []
    },
    {
      "cell_type": "code",
      "metadata": {
        "id": "prYTGqU7nRVz",
        "colab_type": "code",
        "colab": {}
      },
      "source": [
        "df['Actors'] = df['Actors'].map(lambda x: x.split(','))\n",
        "df['Director'] = df['Director'].map(lambda x: x.split(','))"
      ],
      "execution_count": 0,
      "outputs": []
    },
    {
      "cell_type": "code",
      "metadata": {
        "id": "umm3IRg3nSIO",
        "colab_type": "code",
        "colab": {}
      },
      "source": [
        "for index,rows in df.iterrows():\n",
        "  rows['Genre']=[x.lower().replace(' ','') for x in rows['Genre']]\n",
        "  rows['Actors']=[x.lower().replace(' ','') for x in rows['Actors']]\n",
        "  rows['Director']=[x.lower().replace(' ','') for x in rows['Director']]"
      ],
      "execution_count": 0,
      "outputs": []
    },
    {
      "cell_type": "code",
      "metadata": {
        "id": "K-EbvuJun2W4",
        "colab_type": "code",
        "outputId": "0584fa81-9815-4352-849b-62c2011b968b",
        "colab": {
          "base_uri": "https://localhost:8080/",
          "height": 572
        }
      },
      "source": [
        "df"
      ],
      "execution_count": 0,
      "outputs": [
        {
          "output_type": "execute_result",
          "data": {
            "text/html": [
              "<div>\n",
              "<style scoped>\n",
              "    .dataframe tbody tr th:only-of-type {\n",
              "        vertical-align: middle;\n",
              "    }\n",
              "\n",
              "    .dataframe tbody tr th {\n",
              "        vertical-align: top;\n",
              "    }\n",
              "\n",
              "    .dataframe thead th {\n",
              "        text-align: right;\n",
              "    }\n",
              "</style>\n",
              "<table border=\"1\" class=\"dataframe\">\n",
              "  <thead>\n",
              "    <tr style=\"text-align: right;\">\n",
              "      <th></th>\n",
              "      <th>Title</th>\n",
              "      <th>Director</th>\n",
              "      <th>Actors</th>\n",
              "      <th>Plot</th>\n",
              "      <th>Genre</th>\n",
              "      <th>KeyWords</th>\n",
              "    </tr>\n",
              "  </thead>\n",
              "  <tbody>\n",
              "    <tr>\n",
              "      <th>0</th>\n",
              "      <td>The Shawshank Redemption</td>\n",
              "      <td>[frankdarabont]</td>\n",
              "      <td>[timrobbins, morganfreeman, bobgunton, william...</td>\n",
              "      <td>Two imprisoned men bond over a number of years...</td>\n",
              "      <td>[crime, drama]</td>\n",
              "      <td>[number, acts, eventual, redemption, years, fi...</td>\n",
              "    </tr>\n",
              "    <tr>\n",
              "      <th>1</th>\n",
              "      <td>The Godfather</td>\n",
              "      <td>[francisfordcoppola]</td>\n",
              "      <td>[marlonbrando, alpacino, jamescaan, richards.c...</td>\n",
              "      <td>The aging patriarch of an organized crime dyna...</td>\n",
              "      <td>[crime, drama]</td>\n",
              "      <td>[organized, crime, dynasty, transfers, control...</td>\n",
              "    </tr>\n",
              "    <tr>\n",
              "      <th>2</th>\n",
              "      <td>The Godfather: Part II</td>\n",
              "      <td>[francisfordcoppola]</td>\n",
              "      <td>[alpacino, robertduvall, dianekeaton, robertde...</td>\n",
              "      <td>The early life and career of Vito Corleone in ...</td>\n",
              "      <td>[crime, drama]</td>\n",
              "      <td>[career, portrayed, son, michael, expands, tig...</td>\n",
              "    </tr>\n",
              "    <tr>\n",
              "      <th>3</th>\n",
              "      <td>The Dark Knight</td>\n",
              "      <td>[christophernolan]</td>\n",
              "      <td>[christianbale, heathledger, aaroneckhart, mic...</td>\n",
              "      <td>When the menace known as the Joker emerges fro...</td>\n",
              "      <td>[action, crime, drama]</td>\n",
              "      <td>[dark, knight, must, accept, one, chaos, myste...</td>\n",
              "    </tr>\n",
              "    <tr>\n",
              "      <th>4</th>\n",
              "      <td>12 Angry Men</td>\n",
              "      <td>[sidneylumet]</td>\n",
              "      <td>[martinbalsam, johnfiedler, leej.cobb, e.g.mar...</td>\n",
              "      <td>A jury holdout attempts to prevent a miscarria...</td>\n",
              "      <td>[crime, drama]</td>\n",
              "      <td>[evidence, justice, prevent, miscarriage, reco...</td>\n",
              "    </tr>\n",
              "    <tr>\n",
              "      <th>...</th>\n",
              "      <td>...</td>\n",
              "      <td>...</td>\n",
              "      <td>...</td>\n",
              "      <td>...</td>\n",
              "      <td>...</td>\n",
              "      <td>...</td>\n",
              "    </tr>\n",
              "    <tr>\n",
              "      <th>245</th>\n",
              "      <td>The Lost Weekend</td>\n",
              "      <td>[billywilder]</td>\n",
              "      <td>[raymilland, janewyman, phillipterry, howardda...</td>\n",
              "      <td>The desperate life of a chronic alcoholic is f...</td>\n",
              "      <td>[drama, film-noir]</td>\n",
              "      <td>[followed, desperate, life, fourday, drinking,...</td>\n",
              "    </tr>\n",
              "    <tr>\n",
              "      <th>246</th>\n",
              "      <td>Short Term 12</td>\n",
              "      <td>[destindanielcretton]</td>\n",
              "      <td>[brielarson, johngallagherjr., stephaniebeatri...</td>\n",
              "      <td>A 20something supervising staff member of a re...</td>\n",
              "      <td>[drama]</td>\n",
              "      <td>[residential, treatment, facility, navigates, ...</td>\n",
              "    </tr>\n",
              "    <tr>\n",
              "      <th>247</th>\n",
              "      <td>His Girl Friday</td>\n",
              "      <td>[howardhawks]</td>\n",
              "      <td>[carygrant, rosalindrussell, ralphbellamy, gen...</td>\n",
              "      <td>A newspaper editor uses every trick in the boo...</td>\n",
              "      <td>[comedy, drama, romance]</td>\n",
              "      <td>[newspaper, editor, uses, every, trick, keep, ...</td>\n",
              "    </tr>\n",
              "    <tr>\n",
              "      <th>248</th>\n",
              "      <td>The Straight Story</td>\n",
              "      <td>[davidlynch]</td>\n",
              "      <td>[sissyspacek, janegallowayheitz, josepha.carpe...</td>\n",
              "      <td>An old man makes a long journey by lawnmover t...</td>\n",
              "      <td>[biography, drama]</td>\n",
              "      <td>[mend, long, journey, relationship, old, man, ...</td>\n",
              "    </tr>\n",
              "    <tr>\n",
              "      <th>249</th>\n",
              "      <td>Slumdog Millionaire</td>\n",
              "      <td>[dannyboyle, loveleentandan]</td>\n",
              "      <td>[devpatel, saurabhshukla, anilkapoor, rajzutshi]</td>\n",
              "      <td>A Mumbai teen reflects on his upbringing in th...</td>\n",
              "      <td>[drama]</td>\n",
              "      <td>[accused, indian, version, upbringing, cheatin...</td>\n",
              "    </tr>\n",
              "  </tbody>\n",
              "</table>\n",
              "<p>250 rows × 6 columns</p>\n",
              "</div>"
            ],
            "text/plain": [
              "                        Title  ...                                           KeyWords\n",
              "0    The Shawshank Redemption  ...  [number, acts, eventual, redemption, years, fi...\n",
              "1               The Godfather  ...  [organized, crime, dynasty, transfers, control...\n",
              "2      The Godfather: Part II  ...  [career, portrayed, son, michael, expands, tig...\n",
              "3             The Dark Knight  ...  [dark, knight, must, accept, one, chaos, myste...\n",
              "4                12 Angry Men  ...  [evidence, justice, prevent, miscarriage, reco...\n",
              "..                        ...  ...                                                ...\n",
              "245          The Lost Weekend  ...  [followed, desperate, life, fourday, drinking,...\n",
              "246             Short Term 12  ...  [residential, treatment, facility, navigates, ...\n",
              "247           His Girl Friday  ...  [newspaper, editor, uses, every, trick, keep, ...\n",
              "248        The Straight Story  ...  [mend, long, journey, relationship, old, man, ...\n",
              "249       Slumdog Millionaire  ...  [accused, indian, version, upbringing, cheatin...\n",
              "\n",
              "[250 rows x 6 columns]"
            ]
          },
          "metadata": {
            "tags": []
          },
          "execution_count": 29
        }
      ]
    },
    {
      "cell_type": "code",
      "metadata": {
        "id": "N7fHDAdup182",
        "colab_type": "code",
        "outputId": "d62a1fb8-6dfa-4475-e702-fb6a60f75e66",
        "colab": {
          "base_uri": "https://localhost:8080/",
          "height": 404
        }
      },
      "source": [
        "df['Bag_of_Words']=''\n",
        "columns=['Genre','Director','Actors','KeyWords']\n",
        "\n",
        "for index,row in df.iterrows():\n",
        "  words=''\n",
        "  for col in columns:\n",
        "    words+=' '.join(row[col])+' '\n",
        "  row['Bag_of_Words']=words\n",
        "\n",
        "df['Bag_of_Words']=df['Bag_of_Words'].str.strip().str.replace('   ',' ').str.replace('  ',' ')\n",
        "df=df[['Title','Bag_of_Words']]\n",
        "df"
      ],
      "execution_count": 0,
      "outputs": [
        {
          "output_type": "execute_result",
          "data": {
            "text/html": [
              "<div>\n",
              "<style scoped>\n",
              "    .dataframe tbody tr th:only-of-type {\n",
              "        vertical-align: middle;\n",
              "    }\n",
              "\n",
              "    .dataframe tbody tr th {\n",
              "        vertical-align: top;\n",
              "    }\n",
              "\n",
              "    .dataframe thead th {\n",
              "        text-align: right;\n",
              "    }\n",
              "</style>\n",
              "<table border=\"1\" class=\"dataframe\">\n",
              "  <thead>\n",
              "    <tr style=\"text-align: right;\">\n",
              "      <th></th>\n",
              "      <th>Title</th>\n",
              "      <th>Bag_of_Words</th>\n",
              "    </tr>\n",
              "  </thead>\n",
              "  <tbody>\n",
              "    <tr>\n",
              "      <th>0</th>\n",
              "      <td>The Shawshank Redemption</td>\n",
              "      <td>crime drama frankdarabont timrobbins morganfre...</td>\n",
              "    </tr>\n",
              "    <tr>\n",
              "      <th>1</th>\n",
              "      <td>The Godfather</td>\n",
              "      <td>crime drama francisfordcoppola marlonbrando al...</td>\n",
              "    </tr>\n",
              "    <tr>\n",
              "      <th>2</th>\n",
              "      <td>The Godfather: Part II</td>\n",
              "      <td>crime drama francisfordcoppola alpacino robert...</td>\n",
              "    </tr>\n",
              "    <tr>\n",
              "      <th>3</th>\n",
              "      <td>The Dark Knight</td>\n",
              "      <td>action crime drama christophernolan christianb...</td>\n",
              "    </tr>\n",
              "    <tr>\n",
              "      <th>4</th>\n",
              "      <td>12 Angry Men</td>\n",
              "      <td>crime drama sidneylumet martinbalsam johnfiedl...</td>\n",
              "    </tr>\n",
              "    <tr>\n",
              "      <th>...</th>\n",
              "      <td>...</td>\n",
              "      <td>...</td>\n",
              "    </tr>\n",
              "    <tr>\n",
              "      <th>245</th>\n",
              "      <td>The Lost Weekend</td>\n",
              "      <td>drama film-noir billywilder raymilland janewym...</td>\n",
              "    </tr>\n",
              "    <tr>\n",
              "      <th>246</th>\n",
              "      <td>Short Term 12</td>\n",
              "      <td>drama destindanielcretton brielarson johngalla...</td>\n",
              "    </tr>\n",
              "    <tr>\n",
              "      <th>247</th>\n",
              "      <td>His Girl Friday</td>\n",
              "      <td>comedy drama romance howardhawks carygrant ros...</td>\n",
              "    </tr>\n",
              "    <tr>\n",
              "      <th>248</th>\n",
              "      <td>The Straight Story</td>\n",
              "      <td>biography drama davidlynch sissyspacek janegal...</td>\n",
              "    </tr>\n",
              "    <tr>\n",
              "      <th>249</th>\n",
              "      <td>Slumdog Millionaire</td>\n",
              "      <td>drama dannyboyle loveleentandan devpatel saura...</td>\n",
              "    </tr>\n",
              "  </tbody>\n",
              "</table>\n",
              "<p>250 rows × 2 columns</p>\n",
              "</div>"
            ],
            "text/plain": [
              "                        Title                                       Bag_of_Words\n",
              "0    The Shawshank Redemption  crime drama frankdarabont timrobbins morganfre...\n",
              "1               The Godfather  crime drama francisfordcoppola marlonbrando al...\n",
              "2      The Godfather: Part II  crime drama francisfordcoppola alpacino robert...\n",
              "3             The Dark Knight  action crime drama christophernolan christianb...\n",
              "4                12 Angry Men  crime drama sidneylumet martinbalsam johnfiedl...\n",
              "..                        ...                                                ...\n",
              "245          The Lost Weekend  drama film-noir billywilder raymilland janewym...\n",
              "246             Short Term 12  drama destindanielcretton brielarson johngalla...\n",
              "247           His Girl Friday  comedy drama romance howardhawks carygrant ros...\n",
              "248        The Straight Story  biography drama davidlynch sissyspacek janegal...\n",
              "249       Slumdog Millionaire  drama dannyboyle loveleentandan devpatel saura...\n",
              "\n",
              "[250 rows x 2 columns]"
            ]
          },
          "metadata": {
            "tags": []
          },
          "execution_count": 30
        }
      ]
    },
    {
      "cell_type": "code",
      "metadata": {
        "id": "zENJ8rk1s6Fn",
        "colab_type": "code",
        "outputId": "a1ab418e-17c3-4675-87c3-3cc06fad15af",
        "colab": {
          "base_uri": "https://localhost:8080/",
          "height": 53
        }
      },
      "source": [
        "df['Bag_of_Words'][0]"
      ],
      "execution_count": 0,
      "outputs": [
        {
          "output_type": "execute_result",
          "data": {
            "text/plain": [
              "'crime drama frankdarabont timrobbins morganfreeman bobgunton williamsadler number acts eventual redemption years finding solace common decency two imprisoned men bond'"
            ]
          },
          "metadata": {
            "tags": []
          },
          "execution_count": 31
        }
      ]
    },
    {
      "cell_type": "code",
      "metadata": {
        "id": "p2z7KvYxtEbG",
        "colab_type": "code",
        "outputId": "849688e6-23b7-410a-b760-a0eaaa6cf251",
        "colab": {
          "base_uri": "https://localhost:8080/",
          "height": 50
        }
      },
      "source": [
        "count = CountVectorizer()\n",
        "count_matrix = count.fit_transform(df['Bag_of_Words'])\n",
        "count_matrix"
      ],
      "execution_count": 0,
      "outputs": [
        {
          "output_type": "execute_result",
          "data": {
            "text/plain": [
              "<250x3218 sparse matrix of type '<class 'numpy.int64'>'\n",
              "\twith 5554 stored elements in Compressed Sparse Row format>"
            ]
          },
          "metadata": {
            "tags": []
          },
          "execution_count": 32
        }
      ]
    },
    {
      "cell_type": "code",
      "metadata": {
        "id": "ooY8SesetfbY",
        "colab_type": "code",
        "outputId": "3aea2b42-1331-4fab-d2d4-b9609d23778e",
        "colab": {
          "base_uri": "https://localhost:8080/",
          "height": 404
        }
      },
      "source": [
        "df"
      ],
      "execution_count": 0,
      "outputs": [
        {
          "output_type": "execute_result",
          "data": {
            "text/html": [
              "<div>\n",
              "<style scoped>\n",
              "    .dataframe tbody tr th:only-of-type {\n",
              "        vertical-align: middle;\n",
              "    }\n",
              "\n",
              "    .dataframe tbody tr th {\n",
              "        vertical-align: top;\n",
              "    }\n",
              "\n",
              "    .dataframe thead th {\n",
              "        text-align: right;\n",
              "    }\n",
              "</style>\n",
              "<table border=\"1\" class=\"dataframe\">\n",
              "  <thead>\n",
              "    <tr style=\"text-align: right;\">\n",
              "      <th></th>\n",
              "      <th>Title</th>\n",
              "      <th>Bag_of_Words</th>\n",
              "    </tr>\n",
              "  </thead>\n",
              "  <tbody>\n",
              "    <tr>\n",
              "      <th>0</th>\n",
              "      <td>The Shawshank Redemption</td>\n",
              "      <td>crime drama frankdarabont timrobbins morganfre...</td>\n",
              "    </tr>\n",
              "    <tr>\n",
              "      <th>1</th>\n",
              "      <td>The Godfather</td>\n",
              "      <td>crime drama francisfordcoppola marlonbrando al...</td>\n",
              "    </tr>\n",
              "    <tr>\n",
              "      <th>2</th>\n",
              "      <td>The Godfather: Part II</td>\n",
              "      <td>crime drama francisfordcoppola alpacino robert...</td>\n",
              "    </tr>\n",
              "    <tr>\n",
              "      <th>3</th>\n",
              "      <td>The Dark Knight</td>\n",
              "      <td>action crime drama christophernolan christianb...</td>\n",
              "    </tr>\n",
              "    <tr>\n",
              "      <th>4</th>\n",
              "      <td>12 Angry Men</td>\n",
              "      <td>crime drama sidneylumet martinbalsam johnfiedl...</td>\n",
              "    </tr>\n",
              "    <tr>\n",
              "      <th>...</th>\n",
              "      <td>...</td>\n",
              "      <td>...</td>\n",
              "    </tr>\n",
              "    <tr>\n",
              "      <th>245</th>\n",
              "      <td>The Lost Weekend</td>\n",
              "      <td>drama film-noir billywilder raymilland janewym...</td>\n",
              "    </tr>\n",
              "    <tr>\n",
              "      <th>246</th>\n",
              "      <td>Short Term 12</td>\n",
              "      <td>drama destindanielcretton brielarson johngalla...</td>\n",
              "    </tr>\n",
              "    <tr>\n",
              "      <th>247</th>\n",
              "      <td>His Girl Friday</td>\n",
              "      <td>comedy drama romance howardhawks carygrant ros...</td>\n",
              "    </tr>\n",
              "    <tr>\n",
              "      <th>248</th>\n",
              "      <td>The Straight Story</td>\n",
              "      <td>biography drama davidlynch sissyspacek janegal...</td>\n",
              "    </tr>\n",
              "    <tr>\n",
              "      <th>249</th>\n",
              "      <td>Slumdog Millionaire</td>\n",
              "      <td>drama dannyboyle loveleentandan devpatel saura...</td>\n",
              "    </tr>\n",
              "  </tbody>\n",
              "</table>\n",
              "<p>250 rows × 2 columns</p>\n",
              "</div>"
            ],
            "text/plain": [
              "                        Title                                       Bag_of_Words\n",
              "0    The Shawshank Redemption  crime drama frankdarabont timrobbins morganfre...\n",
              "1               The Godfather  crime drama francisfordcoppola marlonbrando al...\n",
              "2      The Godfather: Part II  crime drama francisfordcoppola alpacino robert...\n",
              "3             The Dark Knight  action crime drama christophernolan christianb...\n",
              "4                12 Angry Men  crime drama sidneylumet martinbalsam johnfiedl...\n",
              "..                        ...                                                ...\n",
              "245          The Lost Weekend  drama film-noir billywilder raymilland janewym...\n",
              "246             Short Term 12  drama destindanielcretton brielarson johngalla...\n",
              "247           His Girl Friday  comedy drama romance howardhawks carygrant ros...\n",
              "248        The Straight Story  biography drama davidlynch sissyspacek janegal...\n",
              "249       Slumdog Millionaire  drama dannyboyle loveleentandan devpatel saura...\n",
              "\n",
              "[250 rows x 2 columns]"
            ]
          },
          "metadata": {
            "tags": []
          },
          "execution_count": 33
        }
      ]
    },
    {
      "cell_type": "code",
      "metadata": {
        "id": "hKLTI1Q3t5pC",
        "colab_type": "code",
        "outputId": "48e828e6-3b51-43eb-c290-29a5ee9bf221",
        "colab": {
          "base_uri": "https://localhost:8080/",
          "height": 134
        }
      },
      "source": [
        "cosine_sim = cosine_similarity(count_matrix, count_matrix)\n",
        "print(cosine_sim)"
      ],
      "execution_count": 0,
      "outputs": [
        {
          "output_type": "stream",
          "text": [
            "[[1.         0.14638501 0.1315587  ... 0.05129892 0.05129892 0.05270463]\n",
            " [0.14638501 1.         0.34236839 ... 0.05006262 0.05006262 0.05143445]\n",
            " [0.1315587  0.34236839 1.         ... 0.04499213 0.04499213 0.04622502]\n",
            " ...\n",
            " [0.05129892 0.05006262 0.04499213 ... 1.         0.05263158 0.05407381]\n",
            " [0.05129892 0.05006262 0.04499213 ... 0.05263158 1.         0.05407381]\n",
            " [0.05270463 0.05143445 0.04622502 ... 0.05407381 0.05407381 1.        ]]\n"
          ],
          "name": "stdout"
        }
      ]
    },
    {
      "cell_type": "code",
      "metadata": {
        "id": "fLsTuKxUvZpz",
        "colab_type": "code",
        "outputId": "72311837-f845-4272-9756-d32c15abf706",
        "colab": {
          "base_uri": "https://localhost:8080/",
          "height": 33
        }
      },
      "source": [
        "indices = pd.Series(df['Title'])\n",
        "tep='The Lost Weekend'\n",
        "indea=list(indices).index('The Lost Weekend')\n",
        "print(indea)"
      ],
      "execution_count": 0,
      "outputs": [
        {
          "output_type": "stream",
          "text": [
            "245\n"
          ],
          "name": "stdout"
        }
      ]
    },
    {
      "cell_type": "code",
      "metadata": {
        "id": "cpYHOti-vnQ9",
        "colab_type": "code",
        "colab": {}
      },
      "source": [
        "def recommend(title,cosine_sim=cosine_sim):\n",
        "  recommended_movies=[]\n",
        "  idx=list(indices).index(title)\n",
        "  score_series=pd.Series(cosine_sim[idx]).sort_values(ascending=False)\n",
        "  top_10_indices=list(score_series.iloc[1:11].index)\n",
        "  for i in top_10_indices:\n",
        "    recommended_movies.append(list(df['Title'])[i])\n",
        "  return recommended_movies"
      ],
      "execution_count": 0,
      "outputs": []
    },
    {
      "cell_type": "code",
      "metadata": {
        "id": "CldYJuyUmhgY",
        "colab_type": "code",
        "outputId": "c6e7602f-5c80-4818-af94-52ffc2e73ef7",
        "colab": {
          "base_uri": "https://localhost:8080/",
          "height": 184
        }
      },
      "source": [
        "recommend('Fargo')"
      ],
      "execution_count": 0,
      "outputs": [
        {
          "output_type": "execute_result",
          "data": {
            "text/plain": [
              "['No Country for Old Men',\n",
              " 'The Departed',\n",
              " 'Rope',\n",
              " 'Reservoir Dogs',\n",
              " 'The Godfather',\n",
              " 'The Big Lebowski',\n",
              " 'The Godfather: Part II',\n",
              " 'On the Waterfront',\n",
              " 'Goodfellas',\n",
              " 'Touch of Evil']"
            ]
          },
          "metadata": {
            "tags": []
          },
          "execution_count": 37
        }
      ]
    },
    {
      "cell_type": "code",
      "metadata": {
        "id": "vbL7NMx7mnBy",
        "colab_type": "code",
        "outputId": "bd0341ea-f2ae-4997-ce97-723e05470348",
        "colab": {
          "base_uri": "https://localhost:8080/",
          "height": 184
        }
      },
      "source": [
        "recommend('The Avengers')"
      ],
      "execution_count": 0,
      "outputs": [
        {
          "output_type": "execute_result",
          "data": {
            "text/plain": [
              "['Guardians of the Galaxy Vol. 2',\n",
              " 'Guardians of the Galaxy',\n",
              " 'Aliens',\n",
              " 'The Martian',\n",
              " 'Terminator 2: Judgment Day',\n",
              " 'The Terminator',\n",
              " 'The Thing',\n",
              " 'Interstellar',\n",
              " 'Spider-Man: Homecoming',\n",
              " 'The Matrix']"
            ]
          },
          "metadata": {
            "tags": []
          },
          "execution_count": 39
        }
      ]
    },
    {
      "cell_type": "code",
      "metadata": {
        "id": "YW0bAdVxm6Df",
        "colab_type": "code",
        "colab": {}
      },
      "source": [
        ""
      ],
      "execution_count": 0,
      "outputs": []
    },
    {
      "cell_type": "code",
      "metadata": {
        "id": "BJ2680T4gD_B",
        "colab_type": "code",
        "colab": {}
      },
      "source": [
        ""
      ],
      "execution_count": 0,
      "outputs": []
    }
  ]
}